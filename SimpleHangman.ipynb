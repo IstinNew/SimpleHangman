{
  "nbformat": 4,
  "nbformat_minor": 0,
  "metadata": {
    "colab": {
      "provenance": []
    },
    "kernelspec": {
      "name": "python3",
      "display_name": "Python 3"
    },
    "language_info": {
      "name": "python"
    }
  },
  "cells": [
    {
      "cell_type": "markdown",
      "source": [
        "### Hangman game"
      ],
      "metadata": {
        "id": "XNF0b_eoj4zl"
      }
    },
    {
      "cell_type": "markdown",
      "source": [
        "Welcome to the Simple Hangman Game! I invite you to crack the words 🙌\n",
        "\n",
        "This notebook hosts a basic, fun and engaging Hangman game implemented in Python.\n",
        "\n",
        "*Enjoy the Game! Dive into the code and enjoy playing the Hangman game. It’s a great way to have fun while practicing Python skills!*\n"
      ],
      "metadata": {
        "id": "Cwr5mTrJjwgq"
      }
    },
    {
      "cell_type": "code",
      "source": [],
      "metadata": {
        "id": "UO8uwKSzrMka"
      },
      "execution_count": null,
      "outputs": []
    },
    {
      "cell_type": "markdown",
      "source": [
        "### About the Game"
      ],
      "metadata": {
        "id": "c3tXThWTj381"
      }
    },
    {
      "cell_type": "markdown",
      "source": [
        "1. Run the code in each cell.\n",
        "2. The game will generate a random tech-themed word.\n",
        "3. You will be prompted to guess a letter.\n",
        "4. The game will check if your guessed letter is in the word and provide\n",
        "   feedback.\n",
        "5. Keep playing, keep guessing\n",
        "\n",
        "Follow the prompts to guess letters.\n",
        "\n",
        "\n",
        "\n",
        "\n"
      ],
      "metadata": {
        "id": "57JtwgSYkwjx"
      }
    },
    {
      "cell_type": "markdown",
      "source": [
        "### Sample"
      ],
      "metadata": {
        "id": "LnKsNfzMl3GN"
      }
    },
    {
      "cell_type": "markdown",
      "source": [
        "\n",
        "Hidden word is: _ _ _ _ _ _ _ _\n",
        "Guess a letter: E\n",
        "Oh no, that's a miss! Try again. ❌\n",
        "\n",
        "Guess a letter: P\n",
        "Bingo! The letter P is in the word! 🎉\n",
        "\n",
        "...\n",
        "\n",
        "Hooray! You've cracked it: PYTHONIC🎊\n",
        "\n",
        "\n",
        "\n"
      ],
      "metadata": {
        "id": "4PG9ltCXmCkS"
      }
    },
    {
      "cell_type": "code",
      "source": [
        "# Simple Hangman Game in Python\n",
        "import random"
      ],
      "metadata": {
        "id": "27ND12wLm6SM"
      },
      "execution_count": 16,
      "outputs": []
    },
    {
      "cell_type": "code",
      "source": [
        "# Function to get a unique tech-themed word\n",
        "def get_unique_word():\n",
        "    words = [\"ALGORITHM\", \"CODING\", \"DATABASE\", \"INNOVATION\", \"JUPYTER\", \"PYTHONISTA\"]\n",
        "    return random.choice(words)"
      ],
      "metadata": {
        "id": "dlSo7U9wsv44"
      },
      "execution_count": 17,
      "outputs": []
    },
    {
      "cell_type": "code",
      "source": [
        "# Get the answer word\n",
        "answer_word = get_unique_word()"
      ],
      "metadata": {
        "id": "Htz2L0los5Bt"
      },
      "execution_count": 18,
      "outputs": []
    },
    {
      "cell_type": "code",
      "source": [
        "# Create the hidden word with underscores and spaces\n",
        "hidden_word = \" \".join(\"_\" for _ in answer_word)"
      ],
      "metadata": {
        "id": "2U1x6gdxtB4x"
      },
      "execution_count": 19,
      "outputs": []
    },
    {
      "cell_type": "code",
      "source": [
        "# Print the hidden word\n",
        "print(f\"Hidden word is: {hidden_word}\")"
      ],
      "metadata": {
        "colab": {
          "base_uri": "https://localhost:8080/"
        },
        "id": "r6067uSVtGd6",
        "outputId": "2a9e3f0c-df22-43c5-943a-8e466cfee3cb"
      },
      "execution_count": 20,
      "outputs": [
        {
          "output_type": "stream",
          "name": "stdout",
          "text": [
            "Hidden word is: _ _ _ _ _ _ _ _ _ _\n"
          ]
        }
      ]
    },
    {
      "cell_type": "code",
      "source": [
        "# Take user input for a letter\n",
        "picked_letter = input(\"Guess a letter: \").upper()"
      ],
      "metadata": {
        "colab": {
          "base_uri": "https://localhost:8080/"
        },
        "id": "6FwdR8i9tQKg",
        "outputId": "6c1079a3-f456-45ec-aa8f-9e870354f528"
      },
      "execution_count": 21,
      "outputs": [
        {
          "name": "stdout",
          "output_type": "stream",
          "text": [
            "Guess a letter: I\n"
          ]
        }
      ]
    },
    {
      "cell_type": "code",
      "source": [
        "# Check if the picked_letter is in the answer_word\n",
        "if picked_letter in answer_word:\n",
        "    print(f\"Bingo! The letter {picked_letter} is in the word! 🎉\")\n",
        "else:\n",
        "    print(\"Oh no, that's a miss! Try again. ❌\")"
      ],
      "metadata": {
        "colab": {
          "base_uri": "https://localhost:8080/"
        },
        "id": "6fP2znZLtU9M",
        "outputId": "f5f5549b-2c50-4e34-b076-aed92f627c2d"
      },
      "execution_count": 22,
      "outputs": [
        {
          "output_type": "stream",
          "name": "stdout",
          "text": [
            "Bingo! The letter I is in the word! 🎉\n"
          ]
        }
      ]
    }
  ]
}
